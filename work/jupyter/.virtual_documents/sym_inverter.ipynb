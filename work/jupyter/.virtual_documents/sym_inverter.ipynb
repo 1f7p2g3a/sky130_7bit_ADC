


import math
import pandas as pd
import numpy as np
import matplotlib.pyplot as plt





%%writefile ../design/sym_inverter_param.spice
.param Lnm = 0.15
.param Wnm = 1
.param Fnm = 1
.param Mnm = 1
.param Lpm = 0.15
.param Wpm = 1
.param Fpm = 1
.param Mpm = 1
.dc vin 0 1.8 0.01


step_count = 10
Wp_steps_vector = np.linspace(0.42, 2, step_count)


for Wp_step in Wp_steps_vector:
    
    with open('../design/sym_inverter_param.spice', 'w') as file:
    # write vgs using the str() function (repr(vsg_step.astype(str)) does not work)
        file.write(".param Wpm = " + str(Wp_step) + '\n')
        file.write(".param Lnm = 0.15" + '\n'
                + ".param Lpm = 0.15" + '\n'
                + ".param Wnm = 0.42" + '\n'
                + ".param Fnm = 1" + '\n'
                + ".param Mnm = 1" + '\n'
                + ".param Fpm = 1" + '\n'
                + ".param Mpm = 1" + '\n'
                + ".dc vin 0 1.8 0.01")
        file.close()
    %system ngspice -b ../design/sym_inverter.spice

    syminv_dat = pd.read_csv('sweep_sym_inverter.dat', sep='\s+')
    syminv_dat.columns = ['vin', 'id_n', 'vth_n', 'vdsat_n', 'gm_n', 'gds_n',
                         'id_n', 'vth_n', 'vdsat_n', 'gm_n', 'gds_n', 'vout']
    



%system ngspice -b ../design/nmos.spice






























