





import math
import pandas as pd
import numpy as np
import matplotlib.pyplot as plt





%%writefile ../design/nmos_param.spice

.param vds = 1.8
.param vbs = 0
.param L = 0.5
.param W = 10
.param F = 1
.param M = 1
.dc vgs 0 1.8 0.01





%system ngspice -b ../design/nmos.spice





nm = pd.read_csv('sweep_nmos.dat', sep='\s+')
nm.columns = [ 'vgs', 'id', 'vth', 'vdsat', 'gm', 'gmbs', 'gds', 
               'cbb', 'csb', 'cdb', 'cgb', 'css', 'csd', 'csg', 
               'cds', 'cdd', 'cdg', 'cbs', 'cbd', 'cbg', 'cgd',
               'cgs', 'cgg', 'capbs', 'capbd' ]


print(nm.columns)



