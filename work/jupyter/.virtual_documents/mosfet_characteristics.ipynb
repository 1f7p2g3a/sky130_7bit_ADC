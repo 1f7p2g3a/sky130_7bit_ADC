





import math
import pandas as pd
import numpy as np
import matplotlib.pyplot as plt





%%writefile ../design/nmos_param.spice

.param vds = 1.8
.param vbs = 0
.param L = 0.5
.param W = 10
.param F = 1
.param M = 1
.dc vgs 0 1.8 0.01





%system ngspice -b ../design/nmos.spice





nm = pd.read_csv('sweep_nmos.dat', sep='\s+')
nm.columns = [ 'vgs', 'id', 'vth', 'vdsat', 'gm', 'gmbs', 'gds', 
               'cbb', 'csb', 'cdb', 'cgb', 'css', 'csd', 'csg', 
               'cds', 'cdd', 'cdg', 'cbs', 'cbd', 'cbg', 'cgd',
               'cgs', 'cgg', 'capbs', 'capbd' ]

nm_lvt = pd.read_csv('sweep_nmos_lvt.dat', sep='\s+')
nm_lvt.columns = [ 'vgs', 'id', 'vth', 'vdsat', 'gm', 'gmbs', 'gds', 
               'cbb', 'csb', 'cdb', 'cgb', 'css', 'csd', 'csg', 
               'cds', 'cdd', 'cdg', 'cbs', 'cbd', 'cbg', 'cgd',
               'cgs', 'cgg', 'capbs', 'capbd' ]



print(nm.columns)


#print(nm.vgs)


fig, nmos_input_characteristic = plt.subplots(ncols=2, figsize=(12,5))
nmos_input_characteristic[0].plot(nm.vgs,  nm.id, label='$V_{DS}$ = 1.8 V')
nmos_input_characteristic[0].set_xlabel('$V_{GS}$ [V]')
nmos_input_characteristic[0].set_ylabel('$I_D$ [A]')
nmos_input_characteristic[0].grid()
nmos_input_characteristic[0].set_title('Input Characteristic')
nmos_input_characteristic[0].legend()

nmos_input_characteristic[1].plot(nm_lvt.vgs,  nm_lvt.id, label='$V_{DS}$ = 1.8 V')
nmos_input_characteristic[1].set_xlabel('$V_{GS}$ [V]')
nmos_input_characteristic[1].set_ylabel('$I_D$ [A]')
nmos_input_characteristic[1].grid()
nmos_input_characteristic[1].set_title('Input Characteristic LVT')
nmos_input_characteristic[1].legend()





%%writefile ../design/nmos_outchar_param.spice

.param vgs = 0.8
.param vbs = 0
.param L = 0.5
.param W = 10
.param F = 1
.param M = 1
.dc vds 0 1.8 0.01


i = 0
curve_count = 10
id_nm = [None] * curve_count
id_nm_lvt = [None] * curve_count
vgs_nm = [None] * curve_count
vgs_nm_lvt = [None] * curve_count


vgs_steps_vector = np.linspace(0, 1.8, curve_count)
for vgs_step in vgs_steps_vector:
    
    with open('../design/nmos_outchar_param.spice', 'w') as file:
    # write vgs using the str() function (repr(vsg_step.astype(str)) does not work)
        file.write(".param vgs = " + str(vgs_step) + '\n')
        file.write(".param vbs = 0" + '\n'
                + ".param L = 0.5" + '\n'
                + ".param W = 10" + '\n'
                + ".param F = 1" + '\n'
                + ".param M = 1" + '\n'
                + ".dc vds 0 1.8 0.01")
        file.close()
    %system ngspice -b ../design/nmos_outchar.spice

    nm_outchar = pd.read_csv('sweep_nmos_outchar.dat', sep='\s+')
    nm_outchar.columns = ['vds', 'vgs', 'id', 'vth']

    nm_lvt_outchar = pd.read_csv('sweep_nmos_lvt_outchar.dat', sep='\s+')
    nm_lvt_outchar.columns = ['vds', 'vgs', 'id', 'vth']

    id_nm[i] = nm_outchar.id
    id_nm_lvt[i] = nm_lvt_outchar.id
    vgs_nm[i] = nm_outchar.vgs
    vgs_nm_lvt[i] = nm_lvt_outchar.vgs

    i=i+1




fig, nmos_output_characteristic = plt.subplots(ncols=2, figsize=(12,5))
j=2
#for i in range(len(id_nm)):
nmos_output_characteristic[0].plot(nm_outchar.vds,  id_nm[j], label='$V_{GS}$ = ' + str(vgs_steps_vector[j]) + ' V')
nmos_output_characteristic[0].set_xlabel('$V_{DS}$ [V]')
nmos_output_characteristic[0].set_ylabel('$I_D$ [A]')
nmos_output_characteristic[0].grid()
nmos_output_characteristic[0].set_title('Output Characteristic')
nmos_output_characteristic[0].legend()

#for i in range(len(id_nm_lvt)):
nmos_output_characteristic[0].plot(nm_lvt_outchar.vds,  id_nm_lvt[j], label='$V_{GS}$ = ' + str(vgs_steps_vector[j]) + ' V')
nmos_output_characteristic[1].set_xlabel('$V_{GS}$ [V]')
nmos_output_characteristic[1].set_ylabel('$I_D$ [A]')
nmos_output_characteristic[1].grid()
nmos_output_characteristic[1].set_title('Output Characteristic LVT')
nmos_output_characteristic[1].legend()

nmos_output_characteristic.show()



