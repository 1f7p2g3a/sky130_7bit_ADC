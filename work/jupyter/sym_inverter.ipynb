{
 "cells": [
  {
   "cell_type": "markdown",
   "id": "4f9714de-4965-448e-9a15-2a3049717d8b",
   "metadata": {},
   "source": [
    "# Symmetrical Inverter"
   ]
  },
  {
   "cell_type": "markdown",
   "id": "6dd8d135-54ae-47be-8674-c4d9c1cd829f",
   "metadata": {},
   "source": [
    "## Linearization\n",
    "Fixed length L, transistor model linearized by using the gm/id method. The resulting Widths will be checked with the real circuit."
   ]
  },
  {
   "cell_type": "code",
   "execution_count": 3,
   "id": "9c253ea6-da80-43a4-ba2c-39b095887ee8",
   "metadata": {},
   "outputs": [
    {
     "name": "stdout",
     "output_type": "stream",
     "text": [
      "Overwriting ../design/sym_inverter_param.spice\n"
     ]
    }
   ],
   "source": [
    "%%writefile ../design/sym_inverter_param.spice\n",
    ".param Ln = 0.5\n",
    ".param Wn = 10\n",
    ".param Fn = 1\n",
    ".param Mn = 1\n",
    ".param Lp = 0.5\n",
    ".param Wp = 10\n",
    ".param Fp = 1\n",
    ".param Mp = 1\n",
    ".dc vin 0 1.8 0.01"
   ]
  },
  {
   "cell_type": "code",
   "execution_count": 4,
   "id": "94231e72-7844-4ba5-aed8-fe023e495bd5",
   "metadata": {},
   "outputs": [
    {
     "data": {
      "text/plain": [
       "['',\n",
       " 'Note: No compatibility mode selected!',\n",
       " '',\n",
       " '',\n",
       " 'Circuit: ** sch_path: /home/ttuser/work/tt08-analog-template/work/design/nmos.sch',\n",
       " '',\n",
       " 'Doing analysis at TEMP = 27.000000 and TNOM = 27.000000',\n",
       " '',\n",
       " ' Reference value :  0.00000e+00',\n",
       " 'No. of Data Rows : 181',\n",
       " 'Doing analysis at TEMP = 27.000000 and TNOM = 27.000000',\n",
       " '',\n",
       " '',\n",
       " 'No. of Data Rows : 181',\n",
       " 'Note: Simulation executed from .control section ']"
      ]
     },
     "execution_count": 4,
     "metadata": {},
     "output_type": "execute_result"
    }
   ],
   "source": [
    "%system ngspice -b ../design/nmos.spice"
   ]
  },
  {
   "cell_type": "code",
   "execution_count": null,
   "id": "3788da9e-a2ff-4f3c-a33a-d48b097c6e8c",
   "metadata": {},
   "outputs": [],
   "source": []
  },
  {
   "cell_type": "code",
   "execution_count": null,
   "id": "27ab4114-b7d5-47a1-ad43-faca518c0246",
   "metadata": {},
   "outputs": [],
   "source": []
  },
  {
   "cell_type": "code",
   "execution_count": null,
   "id": "f12404fe-fa2a-4391-af51-502d05818d45",
   "metadata": {},
   "outputs": [],
   "source": []
  },
  {
   "cell_type": "code",
   "execution_count": null,
   "id": "6cc92c5a-adcc-4374-81f2-a77d649dd98f",
   "metadata": {},
   "outputs": [],
   "source": []
  },
  {
   "cell_type": "code",
   "execution_count": null,
   "id": "258d749b-d1c0-46a9-87ec-1872e7a7756a",
   "metadata": {},
   "outputs": [],
   "source": []
  },
  {
   "cell_type": "code",
   "execution_count": null,
   "id": "c743627e-7381-4808-ae64-e204c5c508f6",
   "metadata": {},
   "outputs": [],
   "source": []
  },
  {
   "cell_type": "code",
   "execution_count": null,
   "id": "d1869f95-e0c1-42b4-933c-409781e50614",
   "metadata": {},
   "outputs": [],
   "source": []
  },
  {
   "cell_type": "code",
   "execution_count": null,
   "id": "ee0b1e43-74d8-48ea-a57c-2dafc94e0064",
   "metadata": {},
   "outputs": [],
   "source": []
  },
  {
   "cell_type": "markdown",
   "id": "94254bed-ac20-4ee5-bf1c-aa273f152028",
   "metadata": {},
   "source": [
    "## No Linearization\n",
    "making a new simulation for every change in W and L"
   ]
  },
  {
   "cell_type": "code",
   "execution_count": null,
   "id": "d8df17e6-faa6-4a3d-b248-8fa2e5ba32f8",
   "metadata": {},
   "outputs": [],
   "source": []
  }
 ],
 "metadata": {
  "kernelspec": {
   "display_name": "Python 3 (ipykernel)",
   "language": "python",
   "name": "python3"
  },
  "language_info": {
   "codemirror_mode": {
    "name": "ipython",
    "version": 3
   },
   "file_extension": ".py",
   "mimetype": "text/x-python",
   "name": "python",
   "nbconvert_exporter": "python",
   "pygments_lexer": "ipython3",
   "version": "3.10.12"
  }
 },
 "nbformat": 4,
 "nbformat_minor": 5
}
