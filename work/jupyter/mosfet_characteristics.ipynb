{
 "cells": [
  {
   "cell_type": "markdown",
   "id": "f45ecd46-9169-415b-9fc4-87f25f23a1f5",
   "metadata": {},
   "source": [
    "# Important\n",
    "- set netlist directory in xschem: -> simulation -> set netlist dir\n",
    "- run netlist from xschem (upper right corner)"
   ]
  },
  {
   "cell_type": "markdown",
   "id": "401bd0fd-4b1c-4963-82a6-b9961222214a",
   "metadata": {},
   "source": [
    "load libraries"
   ]
  },
  {
   "cell_type": "code",
   "execution_count": 1,
   "id": "8ab55b4c-46cd-41c7-9aa3-5b87e952a74f",
   "metadata": {},
   "outputs": [],
   "source": [
    "import math\n",
    "import pandas as pd\n",
    "import numpy as np\n",
    "import matplotlib.pyplot as plt"
   ]
  },
  {
   "cell_type": "markdown",
   "id": "64609145-e959-4d49-a241-187dd408bb96",
   "metadata": {},
   "source": [
    "# NMOS\n",
    "rewrite the spice param file nmos.sch loads"
   ]
  },
  {
   "cell_type": "code",
   "execution_count": 2,
   "id": "f92cbb5e-0ff3-4c16-a444-595111e00303",
   "metadata": {},
   "outputs": [
    {
     "name": "stdout",
     "output_type": "stream",
     "text": [
      "Overwriting ../design/nmos_param.spice\n"
     ]
    }
   ],
   "source": [
    "%%writefile ../design/nmos_param.spice\n",
    "\n",
    ".param vds = 1.8\n",
    ".param vbs = 0\n",
    ".param L = 0.5\n",
    ".param W = 10\n",
    ".param F = 1\n",
    ".param M = 1\n",
    ".dc vgs 0 1.8 0.01"
   ]
  },
  {
   "cell_type": "markdown",
   "id": "bb7bae29-eb6f-4b49-a55e-c120d972a1ab",
   "metadata": {},
   "source": [
    "simulate"
   ]
  },
  {
   "cell_type": "code",
   "execution_count": 3,
   "id": "6420b2d8-eeed-4b51-99b4-38ec944713f9",
   "metadata": {},
   "outputs": [
    {
     "data": {
      "text/plain": [
       "['',\n",
       " 'Note: No compatibility mode selected!',\n",
       " '',\n",
       " '',\n",
       " 'Circuit: ** sch_path: /home/ttuser/work/tt08-analog-template/work/design/nmos.sch',\n",
       " '',\n",
       " 'Doing analysis at TEMP = 27.000000 and TNOM = 27.000000',\n",
       " '',\n",
       " ' Reference value :  0.00000e+00',\n",
       " 'No. of Data Rows : 181',\n",
       " 'Doing analysis at TEMP = 27.000000 and TNOM = 27.000000',\n",
       " '',\n",
       " '',\n",
       " 'No. of Data Rows : 181',\n",
       " 'Note: Simulation executed from .control section ']"
      ]
     },
     "execution_count": 3,
     "metadata": {},
     "output_type": "execute_result"
    }
   ],
   "source": [
    "%system ngspice -b ../design/nmos.spice"
   ]
  },
  {
   "cell_type": "markdown",
   "id": "e1a3371c-b1ad-462c-8be8-25c31c03709c",
   "metadata": {},
   "source": [
    "load results"
   ]
  },
  {
   "cell_type": "code",
   "execution_count": 4,
   "id": "b683864f-1b12-4ab3-8803-dad250de97b7",
   "metadata": {},
   "outputs": [],
   "source": [
    "nm = pd.read_csv('sweep_nmos.dat', sep='\\s+')\n",
    "nm.columns = [ 'vgs', 'id', 'vth', 'vdsat', 'gm', 'gmbs', 'gds', \n",
    "               'cbb', 'csb', 'cdb', 'cgb', 'css', 'csd', 'csg', \n",
    "               'cds', 'cdd', 'cdg', 'cbs', 'cbd', 'cbg', 'cgd',\n",
    "               'cgs', 'cgg', 'capbs', 'capbd' ]"
   ]
  },
  {
   "cell_type": "code",
   "execution_count": 5,
   "id": "19d5ff23-8ed8-4d49-8616-2de86ad12760",
   "metadata": {},
   "outputs": [
    {
     "name": "stdout",
     "output_type": "stream",
     "text": [
      "Index(['vgs', 'id', 'vth', 'vdsat', 'gm', 'gmbs', 'gds', 'cbb', 'csb', 'cdb',\n",
      "       'cgb', 'css', 'csd', 'csg', 'cds', 'cdd', 'cdg', 'cbs', 'cbd', 'cbg',\n",
      "       'cgd', 'cgs', 'cgg', 'capbs', 'capbd'],\n",
      "      dtype='object')\n"
     ]
    }
   ],
   "source": [
    "print(nm.columns)"
   ]
  },
  {
   "cell_type": "code",
   "execution_count": null,
   "id": "2acb839c-e5ad-410a-92ad-236a140ae515",
   "metadata": {},
   "outputs": [],
   "source": [
    "print("
   ]
  }
 ],
 "metadata": {
  "kernelspec": {
   "display_name": "Python 3 (ipykernel)",
   "language": "python",
   "name": "python3"
  },
  "language_info": {
   "codemirror_mode": {
    "name": "ipython",
    "version": 3
   },
   "file_extension": ".py",
   "mimetype": "text/x-python",
   "name": "python",
   "nbconvert_exporter": "python",
   "pygments_lexer": "ipython3",
   "version": "3.10.12"
  }
 },
 "nbformat": 4,
 "nbformat_minor": 5
}
